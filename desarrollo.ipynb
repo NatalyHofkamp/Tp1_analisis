{
 "cells": [
  {
   "cell_type": "code",
   "execution_count": 1,
   "metadata": {},
   "outputs": [
    {
     "data": {
      "application/javascript": "MathJax.Hub.Config({\n  TeX: { equationNumbers: { autoNumber: \"AMS\" } }\n});\n",
      "text/plain": [
       "<IPython.core.display.Javascript object>"
      ]
     },
     "metadata": {},
     "output_type": "display_data"
    }
   ],
   "source": [
    "%%javascript\n",
    "MathJax.Hub.Config({\n",
    "  TeX: { equationNumbers: { autoNumber: \"AMS\" } }\n",
    "});"
   ]
  },
  {
   "cell_type": "markdown",
   "metadata": {},
   "source": [
    "\\begin{table}[ht]\n",
    "\\centering\n",
    "\\begin{tabular}{cccc}\n",
    "\\toprule\n",
    "\\text{Punto de Discontinuidad} & \\text{Cantidad de Armónicos} & \\text{Amplitud de Gibbs} \\\\\n",
    "\\midrule\n",
    "1 & 10 & 0.0888007995456066 \\\\\n",
    "2 & 10 & 0.19892398375832038 \\\\\n",
    "3 & 10 & 0.08880079954560627 \\\\\n",
    "4 & 10 & 0.19892398375831966 \\\\\n",
    "5 & 10 & 0.08880079954560594 \\\\\n",
    "6 & 10 & 0.19892398375831905 \\\\\n",
    "1 & 30 & 0.024509599346801136 \\\\\n",
    "2 & 30 & 0.0865245616602166 \\\\\n",
    "3 & 30 & 0.024509599346800526 \\\\\n",
    "4 & 30 & 0.08652456166021705 \\\\\n",
    "5 & 30 & 0.02450959934680008 \\\\\n",
    "6 & 30 & 0.08652456166021771 \\\\\n",
    "1 & 50 & 0.004757972412938405 \\\\\n",
    "2 & 50 & 0.005596544483390975 \\\\\n",
    "3 & 50 & 0.00475797241293846 \\\\\n",
    "4 & 50 & 0.005596544483389754 \\\\\n",
    "5 & 50 & 0.00475797241293785 \\\\\n",
    "6 & 50 & 0.005596544483390087 \\\\\n",
    "\\bottomrule\n",
    "\\end{tabular}\n",
    "\\caption{Datos del Fenómeno de Gibbs en una Señal de Diente de Sierra.}\n",
    "\\label{tab:gibbs_data}\n",
    "\\end{table}\n"
   ]
  }
 ],
 "metadata": {
  "kernelspec": {
   "display_name": "Python 3.8.10 64-bit",
   "language": "python",
   "name": "python3"
  },
  "language_info": {
   "codemirror_mode": {
    "name": "ipython",
    "version": 3
   },
   "file_extension": ".py",
   "mimetype": "text/x-python",
   "name": "python",
   "nbconvert_exporter": "python",
   "pygments_lexer": "ipython3",
   "version": "3.8.10"
  },
  "orig_nbformat": 4,
  "vscode": {
   "interpreter": {
    "hash": "916dbcbb3f70747c44a77c7bcd40155683ae19c65e1c03b4aa3499c5328201f1"
   }
  }
 },
 "nbformat": 4,
 "nbformat_minor": 2
}
